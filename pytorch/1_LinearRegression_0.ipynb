{
  "nbformat": 4,
  "nbformat_minor": 0,
  "metadata": {
    "colab": {
      "provenance": [],
      "authorship_tag": "ABX9TyPreKMP6uFRRe87Wy2KYwvb",
      "include_colab_link": true
    },
    "kernelspec": {
      "name": "python3",
      "display_name": "Python 3"
    },
    "language_info": {
      "name": "python"
    }
  },
  "cells": [
    {
      "cell_type": "markdown",
      "metadata": {
        "id": "view-in-github",
        "colab_type": "text"
      },
      "source": [
        "<a href=\"https://colab.research.google.com/github/adimali095/experiments/blob/main/pytorch/1_LinearRegression_0.ipynb\" target=\"_parent\"><img src=\"https://colab.research.google.com/assets/colab-badge.svg\" alt=\"Open In Colab\"/></a>"
      ]
    },
    {
      "cell_type": "code",
      "execution_count": 1,
      "metadata": {
        "id": "sNqFg5sQQfU4"
      },
      "outputs": [],
      "source": [
        "import torch\n",
        "import torch.nn as nn"
      ]
    },
    {
      "cell_type": "code",
      "source": [
        "weight = 2\n",
        "bias = 0\n",
        "x = []\n",
        "y = []\n",
        "\n",
        "for i in range(10) :\n",
        "  x.append([i])\n",
        "  y.append([i*weight + bias])\n",
        "print(x[:5],y[:5])"
      ],
      "metadata": {
        "colab": {
          "base_uri": "https://localhost:8080/"
        },
        "id": "0TK3PnOlQo0A",
        "outputId": "b499bb62-f01f-4bbd-e140-c8910e5058fd"
      },
      "execution_count": 5,
      "outputs": [
        {
          "output_type": "stream",
          "name": "stdout",
          "text": [
            "[[0], [1], [2], [3], [4]] [[0], [2], [4], [6], [8]]\n"
          ]
        }
      ]
    },
    {
      "cell_type": "code",
      "source": [
        "X = torch.tensor(x,dtype = torch.float32)\n",
        "Y = torch.tensor(y,dtype = torch.float32)\n",
        "n_samples,n_features = X.shape"
      ],
      "metadata": {
        "id": "5Z5r_nRXRJJw"
      },
      "execution_count": 6,
      "outputs": []
    },
    {
      "cell_type": "code",
      "source": [
        "#0 test sample\n",
        "X_test = torch.tensor([5],dtype = torch.float32)"
      ],
      "metadata": {
        "id": "xliOn8JqRhDn"
      },
      "execution_count": 7,
      "outputs": []
    },
    {
      "cell_type": "code",
      "source": [
        "class LinearRegression(nn.Module) :\n",
        "  def __init__(self,input_dim,output_data) :\n",
        "    super(LinearRegression,self).__init__()\n",
        "    self.lin = nn.Linear(input_dim,output_data)\n",
        "  def forward(self,x) :\n",
        "    return self.lin(x)"
      ],
      "metadata": {
        "id": "kHktOQeNR4YG"
      },
      "execution_count": 19,
      "outputs": []
    },
    {
      "cell_type": "code",
      "source": [
        "input_size,output_data = n_features,n_features\n",
        "model = LinearRegression(input_size,output_data)"
      ],
      "metadata": {
        "id": "t4EXvezDSsOe"
      },
      "execution_count": 20,
      "outputs": []
    },
    {
      "cell_type": "code",
      "source": [
        "model(X_test).item()"
      ],
      "metadata": {
        "colab": {
          "base_uri": "https://localhost:8080/"
        },
        "id": "5eNnXOyUTGC1",
        "outputId": "8b49644c-05fe-4c30-ca17-ca0630aacf8d"
      },
      "execution_count": 21,
      "outputs": [
        {
          "output_type": "execute_result",
          "data": {
            "text/plain": [
              "-0.852141261100769"
            ]
          },
          "metadata": {},
          "execution_count": 21
        }
      ]
    },
    {
      "cell_type": "code",
      "source": [
        "learning_rate = 0.01\n",
        "n_epochs = 1000\n",
        "\n",
        "loss = nn.MSELoss()\n",
        "optimizer = torch.optim.SGD(model.parameters(),lr = learning_rate)"
      ],
      "metadata": {
        "id": "vtPJq1I0TK9E"
      },
      "execution_count": 27,
      "outputs": []
    },
    {
      "cell_type": "code",
      "source": [
        "for epoch in range(n_epochs) :\n",
        "  y_pred = model(X)\n",
        "  l = loss(Y,y_pred)\n",
        "  l.backward()\n",
        "  optimizer.step()\n",
        "  optimizer.zero_grad()\n",
        "\n",
        "  if epoch % (n_epochs/10) == 0 :\n",
        "    w,b = model.parameters()\n",
        "    print(\"epoch : \",epoch,\"\\tw : \",w.item(),\"\\tb : \",b.item())"
      ],
      "metadata": {
        "colab": {
          "base_uri": "https://localhost:8080/"
        },
        "id": "bA0_lxBFUbJU",
        "outputId": "1f06fccc-a31b-4dcf-fe47-4881784f38ba"
      },
      "execution_count": 28,
      "outputs": [
        {
          "output_type": "stream",
          "name": "stdout",
          "text": [
            "epoch :  0 \tw :  2.0105836391448975 \tb :  -0.06636477261781693\n",
            "epoch :  100 \tw :  2.006007194519043 \tb :  -0.03766898065805435\n",
            "epoch :  200 \tw :  2.0034096240997314 \tb :  -0.021381065249443054\n",
            "epoch :  300 \tw :  2.0019354820251465 \tb :  -0.01213595550507307\n",
            "epoch :  400 \tw :  2.0010986328125 \tb :  -0.006888424511998892\n",
            "epoch :  500 \tw :  2.0006234645843506 \tb :  -0.003910021390765905\n",
            "epoch :  600 \tw :  2.0003538131713867 \tb :  -0.0022193919867277145\n",
            "epoch :  700 \tw :  2.0002007484436035 \tb :  -0.0012597943423315883\n",
            "epoch :  800 \tw :  2.0001139640808105 \tb :  -0.0007150091114453971\n",
            "epoch :  900 \tw :  2.0000646114349365 \tb :  -0.0004057950573042035\n"
          ]
        }
      ]
    },
    {
      "cell_type": "code",
      "source": [],
      "metadata": {
        "id": "u_Xeiq8bVnMr"
      },
      "execution_count": null,
      "outputs": []
    }
  ]
}