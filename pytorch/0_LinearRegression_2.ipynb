{
  "nbformat": 4,
  "nbformat_minor": 0,
  "metadata": {
    "colab": {
      "provenance": [],
      "authorship_tag": "ABX9TyOrFQxvYIiE3ut2JfxdFmUi",
      "include_colab_link": true
    },
    "kernelspec": {
      "name": "python3",
      "display_name": "Python 3"
    },
    "language_info": {
      "name": "python"
    }
  },
  "cells": [
    {
      "cell_type": "markdown",
      "metadata": {
        "id": "view-in-github",
        "colab_type": "text"
      },
      "source": [
        "<a href=\"https://colab.research.google.com/github/adimali095/experiments/blob/main/pytorch/0_LinearRegression_2.ipynb\" target=\"_parent\"><img src=\"https://colab.research.google.com/assets/colab-badge.svg\" alt=\"Open In Colab\"/></a>"
      ]
    },
    {
      "cell_type": "code",
      "execution_count": 158,
      "metadata": {
        "id": "Bd16jgIDNt_B"
      },
      "outputs": [],
      "source": [
        "import torch"
      ]
    },
    {
      "cell_type": "code",
      "source": [
        "w1 = 2\n",
        "w2 = 3\n",
        "b = 1\n",
        "x1 = []\n",
        "x2 = []\n",
        "y = []\n",
        "\n",
        "for i in range(100) :\n",
        "  x1.append(i)\n",
        "  x2.append(i)\n",
        "  y.append(w1 * i + w2 * i + b)\n",
        "print(x1[:5],x2[:5],y[:5])"
      ],
      "metadata": {
        "colab": {
          "base_uri": "https://localhost:8080/"
        },
        "id": "2ziT0N28OTlR",
        "outputId": "608c0b3d-4936-46df-a622-ec05fb4c8227"
      },
      "execution_count": 159,
      "outputs": [
        {
          "output_type": "stream",
          "name": "stdout",
          "text": [
            "[0, 1, 2, 3, 4] [0, 1, 2, 3, 4] [1, 6, 11, 16, 21]\n"
          ]
        }
      ]
    },
    {
      "cell_type": "code",
      "source": [
        "X1 = torch.tensor(x1,dtype=torch.float32)\n",
        "X2 = torch.tensor(x2,dtype=torch.float32)\n",
        "Y = torch.tensor(y,dtype=torch.float32)\n",
        "\n",
        "W1 = torch.tensor(0.0,dtype=torch.float32,requires_grad=True)\n",
        "W2 = torch.tensor(0.0,dtype=torch.float32,requires_grad=True)\n",
        "B = torch.tensor(0.0,dtype=torch.float32,requires_grad=True)"
      ],
      "metadata": {
        "id": "jbDGnYdjPJTa"
      },
      "execution_count": 160,
      "outputs": []
    },
    {
      "cell_type": "code",
      "source": [
        "def forward(x1,x2) :\n",
        "  return x1 * W1 + x2 *W2 + B\n",
        "def loss(Y,y_pred) :\n",
        "  return ((Y-y_pred)**2).mean()\n"
      ],
      "metadata": {
        "id": "katXAguYPsV_"
      },
      "execution_count": 161,
      "outputs": []
    },
    {
      "cell_type": "code",
      "source": [
        "X_test1 = 2\n",
        "X_test2 = 3\n",
        "forward(X_test1,X_test2).item()"
      ],
      "metadata": {
        "colab": {
          "base_uri": "https://localhost:8080/"
        },
        "id": "7IPPX4DJS-Po",
        "outputId": "e8efecdc-51fd-4101-f317-1d42c4fbef0b"
      },
      "execution_count": 162,
      "outputs": [
        {
          "output_type": "execute_result",
          "data": {
            "text/plain": [
              "0.0"
            ]
          },
          "metadata": {},
          "execution_count": 162
        }
      ]
    },
    {
      "cell_type": "code",
      "source": [
        "learning_rate = 0.0001\n",
        "n_epochs = 50000\n",
        "\n",
        "for epoch in range(n_epochs) :\n",
        "  y_pred = forward(X1,X2)\n",
        "  l = loss(Y,y_pred)\n",
        "  l.backward()\n",
        "\n",
        "  with torch.no_grad():\n",
        "    W1 -= learning_rate * W1.grad\n",
        "    W2 -= learning_rate * W2.grad\n",
        "    B -= learning_rate * B.grad\n",
        "  W1.grad.zero_()\n",
        "  W2.grad.zero_()\n",
        "  B.grad.zero_()\n",
        "\n",
        "  if(epoch % (n_epochs/10) == 0):\n",
        "    print(\"W1 : \",W1.item(),\"W2 : \",W2.item(),\"B : \",B.item(),\"Loss : \",l.item())"
      ],
      "metadata": {
        "colab": {
          "base_uri": "https://localhost:8080/"
        },
        "id": "vs39sEx-QVM2",
        "outputId": "d83bcc29-6c86-4f74-aa37-6b21b29ab488"
      },
      "execution_count": 163,
      "outputs": [
        {
          "output_type": "stream",
          "name": "stdout",
          "text": [
            "W1 :  3.2933998107910156 W2 :  3.2933998107910156 B :  0.04969999939203262 Loss :  82583.5\n",
            "W1 :  2.505627155303955 W2 :  2.505627155303955 B :  0.2534776031970978 Loss :  0.14144030213356018\n",
            "W1 :  2.504366159439087 W2 :  2.504366159439087 B :  0.4207817614078522 Loss :  0.08514668792486191\n",
            "W1 :  2.503387689590454 W2 :  2.503387689590454 B :  0.5505918264389038 Loss :  0.05125851929187775\n",
            "W1 :  2.5026283264160156 W2 :  2.5026283264160156 B :  0.6513092517852783 Loss :  0.03085852414369583\n",
            "W1 :  2.5020394325256348 W2 :  2.5020394325256348 B :  0.7294548153877258 Loss :  0.018575849011540413\n",
            "W1 :  2.501582384109497 W2 :  2.501582384109497 B :  0.7900865077972412 Loss :  0.011183176189661026\n",
            "W1 :  2.501227617263794 W2 :  2.501227617263794 B :  0.8371307253837585 Loss :  0.006732267793267965\n",
            "W1 :  2.5009524822235107 W2 :  2.5009524822235107 B :  0.8736316561698914 Loss :  0.004052761010825634\n",
            "W1 :  2.500739097595215 W2 :  2.500739097595215 B :  0.9019525647163391 Loss :  0.0024398178793489933\n"
          ]
        }
      ]
    },
    {
      "cell_type": "code",
      "source": [
        "forward(X_test1,X_test2).item()"
      ],
      "metadata": {
        "colab": {
          "base_uri": "https://localhost:8080/"
        },
        "id": "V4Nw6qUXRkwb",
        "outputId": "52fcdc4a-e92b-49fd-b0b6-808e4943ff3f"
      },
      "execution_count": 164,
      "outputs": [
        {
          "output_type": "execute_result",
          "data": {
            "text/plain": [
              "13.426788330078125"
            ]
          },
          "metadata": {},
          "execution_count": 164
        }
      ]
    },
    {
      "cell_type": "code",
      "source": [
        "(w1 * X_test1 + w2 * X_test2 + b) #closeer to happiness"
      ],
      "metadata": {
        "colab": {
          "base_uri": "https://localhost:8080/"
        },
        "id": "oousD-lKSLlL",
        "outputId": "f7b32280-db11-40e3-9c7c-4d8ad030696d"
      },
      "execution_count": 165,
      "outputs": [
        {
          "output_type": "execute_result",
          "data": {
            "text/plain": [
              "14"
            ]
          },
          "metadata": {},
          "execution_count": 165
        }
      ]
    },
    {
      "cell_type": "code",
      "source": [],
      "metadata": {
        "id": "OibG9iSGSR1S"
      },
      "execution_count": 165,
      "outputs": []
    }
  ]
}