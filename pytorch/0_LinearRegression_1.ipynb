{
  "nbformat": 4,
  "nbformat_minor": 0,
  "metadata": {
    "colab": {
      "provenance": [],
      "authorship_tag": "ABX9TyP+wwO4Tf189XY2W7yaRMru",
      "include_colab_link": true
    },
    "kernelspec": {
      "name": "python3",
      "display_name": "Python 3"
    },
    "language_info": {
      "name": "python"
    }
  },
  "cells": [
    {
      "cell_type": "markdown",
      "metadata": {
        "id": "view-in-github",
        "colab_type": "text"
      },
      "source": [
        "<a href=\"https://colab.research.google.com/github/adimali095/experiments/blob/main/pytorch/0_LinearRegression_1.ipynb\" target=\"_parent\"><img src=\"https://colab.research.google.com/assets/colab-badge.svg\" alt=\"Open In Colab\"/></a>"
      ]
    },
    {
      "cell_type": "code",
      "execution_count": 153,
      "metadata": {
        "id": "S2IQwiRO9zAR"
      },
      "outputs": [],
      "source": [
        "import torch"
      ]
    },
    {
      "cell_type": "code",
      "source": [
        "#LINEAR REGRESSION\n",
        "weight = 3\n",
        "bias = 4\n",
        "X = []\n",
        "Y = []\n",
        "for i in range(10) :\n",
        "  X.append(i)\n",
        "  Y.append(weight*i+bias)\n",
        "X[:5],Y[:5]"
      ],
      "metadata": {
        "colab": {
          "base_uri": "https://localhost:8080/"
        },
        "id": "qHTNSOxm926R",
        "outputId": "658eced1-e296-42e7-817f-26bbc852fe70"
      },
      "execution_count": 154,
      "outputs": [
        {
          "output_type": "execute_result",
          "data": {
            "text/plain": [
              "([0, 1, 2, 3, 4], [4, 7, 10, 13, 16])"
            ]
          },
          "metadata": {},
          "execution_count": 154
        }
      ]
    },
    {
      "cell_type": "code",
      "source": [
        "X = torch.tensor(X,dtype= torch.float32)\n",
        "Y = torch.tensor(Y,dtype= torch.float32)\n",
        "W = torch.tensor(0.0,dtype= torch.float32,requires_grad =True)\n",
        "B = torch.tensor(0.0,dtype = torch.float32,requires_grad =True)\n",
        "X_test = 12"
      ],
      "metadata": {
        "id": "sFk0WsDb-KaD"
      },
      "execution_count": 155,
      "outputs": []
    },
    {
      "cell_type": "code",
      "source": [
        "def forward(X) :\n",
        "  return W * X + B\n",
        "def loss(y,y_pred) :\n",
        "  return ((y-y_pred)**2).mean()\n",
        "  #return (((y-y_pred)**2).sum()) ** 0.5\n",
        "forward(X_test).item()"
      ],
      "metadata": {
        "colab": {
          "base_uri": "https://localhost:8080/"
        },
        "id": "Hy1gL6Aq-gLA",
        "outputId": "a148d02a-32ad-4920-e8dd-89f3a1764bab"
      },
      "execution_count": 156,
      "outputs": [
        {
          "output_type": "execute_result",
          "data": {
            "text/plain": [
              "0.0"
            ]
          },
          "metadata": {},
          "execution_count": 156
        }
      ]
    },
    {
      "cell_type": "code",
      "source": [
        "#not changing values alternatively\n",
        "\n",
        "learning_rate = 0.0001\n",
        "n_epochs = 1000000\n",
        "\n",
        "for epoch in range(n_epochs) :\n",
        "  y_pred = forward(X)\n",
        "\n",
        "  l = loss(Y,y_pred)\n",
        "  l.backward()\n",
        "\n",
        "  with torch.no_grad() :\n",
        "    W -= learning_rate* W.grad\n",
        "    B -= learning_rate* B.grad\n",
        "  W.grad.zero_()\n",
        "  B.grad.zero_()\n",
        "\n",
        "  if(epoch % (n_epochs/10) == 0) :\n",
        "    print(\"epoch : \",epoch,\"\\tW : \",W.item(),\"\\tB : \",B.item(),\"\\tloss : \",l.item())\n"
      ],
      "metadata": {
        "colab": {
          "base_uri": "https://localhost:8080/"
        },
        "id": "gHiEVo1x-uuH",
        "outputId": "59f7fd1c-67e3-42d4-e835-1d52a129cb85"
      },
      "execution_count": 157,
      "outputs": [
        {
          "output_type": "stream",
          "name": "stdout",
          "text": [
            "epoch :  0 \tW :  0.02070000022649765 \tB :  0.003499999875202775 \tloss :  380.5\n",
            "epoch :  100000 \tW :  3.0019497871398926 \tB :  3.987783670425415 \tloss :  4.321899177739397e-05\n",
            "epoch :  200000 \tW :  3.000397205352783 \tB :  3.997616767883301 \tloss :  1.6559254163439618e-06\n",
            "epoch :  300000 \tW :  3.000397205352783 \tB :  3.997616767883301 \tloss :  1.6559254163439618e-06\n",
            "epoch :  400000 \tW :  3.000397205352783 \tB :  3.997616767883301 \tloss :  1.6559254163439618e-06\n",
            "epoch :  500000 \tW :  3.000397205352783 \tB :  3.997616767883301 \tloss :  1.6559254163439618e-06\n",
            "epoch :  600000 \tW :  3.000397205352783 \tB :  3.997616767883301 \tloss :  1.6559254163439618e-06\n",
            "epoch :  700000 \tW :  3.000397205352783 \tB :  3.997616767883301 \tloss :  1.6559254163439618e-06\n",
            "epoch :  800000 \tW :  3.000397205352783 \tB :  3.997616767883301 \tloss :  1.6559254163439618e-06\n",
            "epoch :  900000 \tW :  3.000397205352783 \tB :  3.997616767883301 \tloss :  1.6559254163439618e-06\n"
          ]
        }
      ]
    },
    {
      "cell_type": "code",
      "source": [
        "#changing values alternatively\n",
        "'''\n",
        "learning_rate = 0.0001\n",
        "n_epochs = 1000\n",
        "\n",
        "for epoch in range(n_epochs) :\n",
        "  y_pred = forward(X)\n",
        "\n",
        "  l = loss(Y,y_pred)\n",
        "  l.backward()\n",
        "\n",
        "  with torch.no_grad() :\n",
        "    if(epoch%2 == 0) :\n",
        "      W -= learning_rate* W.grad\n",
        "    else :\n",
        "      B -= learning_rate* B.grad\n",
        "  if(epoch%2 == 0) :\n",
        "    W.grad.zero_()\n",
        "  else :\n",
        "    B.grad.zero_()\n",
        "\n",
        "  if(epoch % 10 == 0) :\n",
        "    print(\"epoch : \",epoch,\"\\tW : \",W.item(),\"\\tB : \",B.item(),\"\\tloss : \",l.item())\n",
        "'''"
      ],
      "metadata": {
        "colab": {
          "base_uri": "https://localhost:8080/",
          "height": 70
        },
        "id": "EGP0iYKgJT_F",
        "outputId": "ce2ca06e-43ae-4214-f8ea-a327f5375290"
      },
      "execution_count": 158,
      "outputs": [
        {
          "output_type": "execute_result",
          "data": {
            "text/plain": [
              "'\\nlearning_rate = 0.0001\\nn_epochs = 1000\\n\\nfor epoch in range(n_epochs) :\\n  y_pred = forward(X)\\n\\n  l = loss(Y,y_pred)\\n  l.backward()\\n  \\n  with torch.no_grad() :\\n    if(epoch%2 == 0) :\\n      W -= learning_rate* W.grad\\n    else :\\n      B -= learning_rate* B.grad\\n  if(epoch%2 == 0) :\\n    W.grad.zero_()\\n  else :\\n    B.grad.zero_()\\n\\n  if(epoch % 10 == 0) :\\n    print(\"epoch : \",epoch,\"\\tW : \",W.item(),\"\\tB : \",B.item(),\"\\tloss : \",l.item())\\n'"
            ],
            "application/vnd.google.colaboratory.intrinsic+json": {
              "type": "string"
            }
          },
          "metadata": {},
          "execution_count": 158
        }
      ]
    },
    {
      "cell_type": "code",
      "source": [
        "forward(X_test).item()"
      ],
      "metadata": {
        "colab": {
          "base_uri": "https://localhost:8080/"
        },
        "id": "L5KpjqNI_gSW",
        "outputId": "15cad53b-618e-4110-d664-fb1a2f84c4bf"
      },
      "execution_count": 159,
      "outputs": [
        {
          "output_type": "execute_result",
          "data": {
            "text/plain": [
              "40.002384185791016"
            ]
          },
          "metadata": {},
          "execution_count": 159
        }
      ]
    },
    {
      "cell_type": "code",
      "source": [
        "print(X_test * weight +bias) #HAPPINESS"
      ],
      "metadata": {
        "colab": {
          "base_uri": "https://localhost:8080/"
        },
        "id": "ljc7xB6-CKka",
        "outputId": "cba8b25c-e2c9-4aa2-f31b-31aea17b7050"
      },
      "execution_count": 160,
      "outputs": [
        {
          "output_type": "stream",
          "name": "stdout",
          "text": [
            "40\n"
          ]
        }
      ]
    },
    {
      "cell_type": "code",
      "source": [],
      "metadata": {
        "id": "vD6yNdSAC2-o"
      },
      "execution_count": 160,
      "outputs": []
    }
  ]
}