{
  "nbformat": 4,
  "nbformat_minor": 0,
  "metadata": {
    "colab": {
      "provenance": [],
      "authorship_tag": "ABX9TyOi9HEYU1gPkR1VHvKF2eq3",
      "include_colab_link": true
    },
    "kernelspec": {
      "name": "python3",
      "display_name": "Python 3"
    },
    "language_info": {
      "name": "python"
    }
  },
  "cells": [
    {
      "cell_type": "markdown",
      "metadata": {
        "id": "view-in-github",
        "colab_type": "text"
      },
      "source": [
        "<a href=\"https://colab.research.google.com/github/adimali095/experiments/blob/main/pytorch/1_pytorch_neuralnet_1.ipynb\" target=\"_parent\"><img src=\"https://colab.research.google.com/assets/colab-badge.svg\" alt=\"Open In Colab\"/></a>"
      ]
    },
    {
      "cell_type": "code",
      "execution_count": 1,
      "metadata": {
        "id": "ZHq5SfGTZFPH"
      },
      "outputs": [],
      "source": [
        "import torch\n",
        "import torch.nn as nn\n",
        "import torchvision\n",
        "import torchvision.transforms as transforms\n",
        "import matplotlib.pyplot as plt"
      ]
    },
    {
      "cell_type": "code",
      "source": [
        "#device\n",
        "device = torch.device('cuda' if torch.cuda.is_available() else 'cpu')\n",
        "\n",
        "#hyperparameters\n",
        "input_size = 784 #28 * 28\n",
        "hidden_size = 500\n",
        "num_classes = 10\n",
        "num_epochs = 2\n",
        "batch_size = 100\n",
        "learning_rate = 0.001\n",
        "\n",
        "#MNIST dataset\n",
        "train_dataset = torchvision.datasets.MNIST(root='./data',\n",
        "                                           train = True,\n",
        "                                           transform = transforms.ToTensor(),\n",
        "                                           download =True)\n",
        "test_dataset = torchvision.datasets.MNIST(root='./data',\n",
        "                                           train = False,\n",
        "                                           transform = transforms.ToTensor())\n",
        "#DATA loader\n",
        "train_loader = torch.utils.data.DataLoader(dataset = train_dataset,\n",
        "                                           batch_size = batch_size,\n",
        "                                           shuffle = True)\n",
        "test_loader = torch.utils.data.DataLoader(dataset = test_dataset,\n",
        "                                           batch_size = batch_size,\n",
        "                                           shuffle = True)\n"
      ],
      "metadata": {
        "id": "Ftpu0FOlZev8"
      },
      "execution_count": 48,
      "outputs": []
    },
    {
      "cell_type": "code",
      "source": [
        "#examples = iter(train_loader)\n",
        "#example_data,example_target = examples.next()\n",
        "for example_data,example_target in train_loader :\n",
        "  break;\n",
        "for i in range(4) :\n",
        "  plt.subplot(2,2,i+1)\n",
        "  plt.imshow(example_data[i][0],cmap='gray')\n",
        "plt.show()\n",
        "print(\"input shape : \",example_data.shape,\"\\tOutput shape : \",example_target.shape)"
      ],
      "metadata": {
        "colab": {
          "base_uri": "https://localhost:8080/",
          "height": 449
        },
        "id": "4QQbCySmP_RP",
        "outputId": "01029ed4-702c-4eb5-a344-76e501d36b68"
      },
      "execution_count": 49,
      "outputs": [
        {
          "output_type": "display_data",
          "data": {
            "text/plain": [
              "<Figure size 640x480 with 4 Axes>"
            ],
            "image/png": "[encoded data removed]"
          },
          "metadata": {}
        },
        {
          "output_type": "stream",
          "name": "stdout",
          "text": [
            "input shape :  torch.Size([100, 1, 28, 28]) \tOutput shape :  torch.Size([100])\n"
          ]
        }
      ]
    },
    {
      "cell_type": "code",
      "source": [
        "class NeuralNet(nn.Module) :\n",
        "  def __init__(self,input_size,hidden_size,num_classes) :\n",
        "    super(NeuralNet,self).__init__()\n",
        "    self.l1 = nn.Linear(input_size,hidden_size)\n",
        "    self.relu = nn.ReLU()\n",
        "    self.l2 = nn.Linear(hidden_size,num_classes)\n",
        "  def forward(self,X) :\n",
        "    out = self.l1(X)\n",
        "    out = self.relu(out)\n",
        "    out = self.l2(out)\n",
        "    return out\n"
      ],
      "metadata": {
        "id": "XAX_3UzAP_xe"
      },
      "execution_count": 50,
      "outputs": []
    },
    {
      "cell_type": "code",
      "source": [
        "model = NeuralNet(input_size,hidden_size,num_classes)"
      ],
      "metadata": {
        "id": "RpkdiZXJW1H-"
      },
      "execution_count": 51,
      "outputs": []
    },
    {
      "cell_type": "code",
      "source": [
        "from torchsummary import summary\n",
        "summary(model, (input_size,))"
      ],
      "metadata": {
        "colab": {
          "base_uri": "https://localhost:8080/"
        },
        "id": "1Ja59_75boYf",
        "outputId": "0b64a1b3-d30e-4f78-90bd-16a3f6e3bb79"
      },
      "execution_count": 52,
      "outputs": [
        {
          "output_type": "stream",
          "name": "stdout",
          "text": [
            "----------------------------------------------------------------\n",
            "        Layer (type)               Output Shape         Param #\n",
            "================================================================\n",
            "            Linear-1                  [-1, 500]         392,500\n",
            "              ReLU-2                  [-1, 500]               0\n",
            "            Linear-3                   [-1, 10]           5,010\n",
            "================================================================\n",
            "Total params: 397,510\n",
            "Trainable params: 397,510\n",
            "Non-trainable params: 0\n",
            "----------------------------------------------------------------\n",
            "Input size (MB): 0.00\n",
            "Forward/backward pass size (MB): 0.01\n",
            "Params size (MB): 1.52\n",
            "Estimated Total Size (MB): 1.53\n",
            "----------------------------------------------------------------\n"
          ]
        }
      ]
    },
    {
      "cell_type": "code",
      "source": [
        "#criterion\n",
        "criterion = nn.CrossEntropyLoss()\n",
        "optimizer = torch.optim.Adam(model.parameters(),lr =learning_rate)"
      ],
      "metadata": {
        "id": "2tQlILdZXBhc"
      },
      "execution_count": 53,
      "outputs": []
    },
    {
      "cell_type": "code",
      "source": [
        "n_total_steps = len(train_loader)\n",
        "for epoch in range(num_epochs ) :\n",
        "  for i,(images,labels) in enumerate(train_loader) :\n",
        "    #original shape : [ 100 , 1 , 28 , 28 ]\n",
        "    #resized shape  : [ 100 , 784 ]\n",
        "    images = images.reshape(-1,28*28).to(device)\n",
        "    labels = labels.to(device)\n",
        "\n",
        "    outputs = model(images)\n",
        "    loss = criterion(outputs,labels)\n",
        "\n",
        "    loss.backward()\n",
        "    optimizer.step()\n",
        "    optimizer.zero_grad()\n",
        "\n",
        "    if i%100 == 0 :\n",
        "      print(\"epoch : \",(epoch+1)/num_epochs,\"\\tstep : \",(i+1)/n_total_steps,\"\\tloss : \",loss.item())"
      ],
      "metadata": {
        "colab": {
          "base_uri": "https://localhost:8080/"
        },
        "id": "Wo4O-9gNXyHw",
        "outputId": "fa00dbb3-955d-415e-9d19-8d1ad5485a16"
      },
      "execution_count": 54,
      "outputs": [
        {
          "output_type": "stream",
          "name": "stdout",
          "text": [
            "epoch :  0.5 \tstep :  0.0016666666666666668 \tloss :  2.2897191047668457\n",
            "epoch :  0.5 \tstep :  0.16833333333333333 \tloss :  0.4505823254585266\n",
            "epoch :  0.5 \tstep :  0.335 \tloss :  0.3656099736690521\n",
            "epoch :  0.5 \tstep :  0.5016666666666667 \tloss :  0.26376140117645264\n",
            "epoch :  0.5 \tstep :  0.6683333333333333 \tloss :  0.14887075126171112\n",
            "epoch :  0.5 \tstep :  0.835 \tloss :  0.23292680084705353\n",
            "epoch :  1.0 \tstep :  0.0016666666666666668 \tloss :  0.2746404707431793\n",
            "epoch :  1.0 \tstep :  0.16833333333333333 \tloss :  0.08425170183181763\n",
            "epoch :  1.0 \tstep :  0.335 \tloss :  0.10556036233901978\n",
            "epoch :  1.0 \tstep :  0.5016666666666667 \tloss :  0.17828470468521118\n",
            "epoch :  1.0 \tstep :  0.6683333333333333 \tloss :  0.1900148242712021\n",
            "epoch :  1.0 \tstep :  0.835 \tloss :  0.0460614338517189\n"
          ]
        }
      ]
    },
    {
      "cell_type": "code",
      "source": [
        "#testing model\n",
        "\n",
        "with torch.no_grad() :\n",
        "  n_correct = 0\n",
        "  n_samples = len(test_loader.dataset)\n",
        "\n",
        "  for images,labels in test_loader :\n",
        "    images = images.reshape(-1,28*28).to(device)\n",
        "    labels = labels.to(device)\n",
        "\n",
        "    outputs = model(images)\n",
        "    _,predicted = torch.max(outputs,1)\n",
        "    n_correct += (predicted == labels).sum().item()\n",
        "\n",
        "acc = n_correct / n_samples\n",
        "print(\"accuracy : \",acc*100)"
      ],
      "metadata": {
        "colab": {
          "base_uri": "https://localhost:8080/"
        },
        "id": "ktHKgX46bZTP",
        "outputId": "2b085ea8-48c7-4b0d-ea98-f6d4db69d970"
      },
      "execution_count": 66,
      "outputs": [
        {
          "output_type": "stream",
          "name": "stdout",
          "text": [
            "accuracy :  96.93\n"
          ]
        }
      ]
    },
    {
      "cell_type": "code",
      "source": [],
      "metadata": {
        "id": "ND1AzxLheTW7"
      },
      "execution_count": null,
      "outputs": []
    }
  ]
}